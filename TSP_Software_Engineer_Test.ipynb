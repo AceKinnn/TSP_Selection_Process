{
  "nbformat": 4,
  "nbformat_minor": 0,
  "metadata": {
    "colab": {
      "provenance": [],
      "authorship_tag": "ABX9TyOSTAxCbfMLi8N0rfuZcnzE",
      "include_colab_link": true
    },
    "kernelspec": {
      "name": "python3",
      "display_name": "Python 3"
    },
    "language_info": {
      "name": "python"
    }
  },
  "cells": [
    {
      "cell_type": "markdown",
      "metadata": {
        "id": "view-in-github",
        "colab_type": "text"
      },
      "source": [
        "<a href=\"https://colab.research.google.com/github/AceKinnn/TSP_Selection_Process/blob/main/TSP_Software_Engineer_Test.ipynb\" target=\"_parent\"><img src=\"https://colab.research.google.com/assets/colab-badge.svg\" alt=\"Open In Colab\"/></a>"
      ]
    },
    {
      "cell_type": "code",
      "execution_count": 1,
      "metadata": {
        "colab": {
          "base_uri": "https://localhost:8080/"
        },
        "id": "GZJrTcC0jkB7",
        "outputId": "d6a59dc6-6d7d-48bb-debb-15d2c5ad3c7c"
      },
      "outputs": [
        {
          "name": "stdout",
          "output_type": "stream",
          "text": [
            "Enter numbers separated by spaces: 12 11 13 5 6 7\n"
          ]
        },
        {
          "output_type": "execute_result",
          "data": {
            "text/plain": [
              "[5, 6, 7, 11, 12, 13]"
            ]
          },
          "metadata": {},
          "execution_count": 1
        }
      ],
      "source": [
        "# merge 2 sorted lists into a single sorted list\n",
        "def merge(left, right):\n",
        "    result = []\n",
        "    i = j = 0\n",
        "\n",
        "    while i < len(left) and j < len(right):\n",
        "        if left[i] < right[j]:\n",
        "            result.append(left[i])\n",
        "            i += 1\n",
        "        else:\n",
        "            result.append(right[j])\n",
        "            j += 1\n",
        "\n",
        "    result.extend(left[i:])\n",
        "    result.extend(right[j:])\n",
        "    return result\n",
        "\n",
        "# divide-conquer algorithm\n",
        "def merge_sort(arr):\n",
        "    if len(arr) == 0:\n",
        "        return \"Array is empty\"\n",
        "    elif len(arr) == 1:\n",
        "        return arr\n",
        "    else:\n",
        "        mid = len(arr) // 2\n",
        "        left_half = merge_sort(arr[:mid])\n",
        "        right_half = merge_sort(arr[mid:])\n",
        "\n",
        "        return merge(left_half, right_half)\n",
        "\n",
        "\"\"\"\n",
        "  example input\n",
        "  [12, 11, 13, 5, 6, 7]\n",
        "\"\"\"\n",
        "merge_sort(list(map(int, input(\"Enter numbers separated by spaces: \").split())))"
      ]
    },
    {
      "cell_type": "code",
      "source": [
        "from collections import deque\n",
        "\n",
        "def breadthFirstSearch(graph, startNode):\n",
        "    visited = []\n",
        "    queue = deque([startNode])\n",
        "\n",
        "    while queue:\n",
        "        node = queue.popleft()\n",
        "        if node not in visited:\n",
        "            visited.append(node)\n",
        "\n",
        "            # add unvisited nodes to queue\n",
        "            queue.extend(neighbor for neighbor in graph[node] if neighbor not in visited)\n",
        "\n",
        "    return visited\n",
        "\n",
        "\n",
        "graph = {\n",
        "    0: [1, 2],\n",
        "    1: [0, 3, 4],\n",
        "    2: [0, 5],\n",
        "    3: [1],\n",
        "    4: [1],\n",
        "    5: [2]\n",
        "}\n",
        "\n",
        "print(breadthFirstSearch(graph, 0))"
      ],
      "metadata": {
        "colab": {
          "base_uri": "https://localhost:8080/"
        },
        "id": "RQGAbkuHjmRm",
        "outputId": "586b86b5-8f05-42c7-9629-5fb50d42b69d"
      },
      "execution_count": 5,
      "outputs": [
        {
          "output_type": "stream",
          "name": "stdout",
          "text": [
            "[0, 1, 2, 3, 4, 5]\n"
          ]
        }
      ]
    }
  ]
}